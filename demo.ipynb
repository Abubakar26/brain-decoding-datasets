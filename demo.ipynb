{
 "cells": [
  {
   "cell_type": "markdown",
   "metadata": {},
   "source": [
    "# Brain-decoding-datasets demo"
   ]
  },
  {
   "cell_type": "code",
   "execution_count": null,
   "metadata": {
    "collapsed": true
   },
   "outputs": [],
   "source": [
    "import bdds"
   ]
  },
  {
   "cell_type": "markdown",
   "metadata": {},
   "source": [
    "## Hand shape decoding dataset (Janken dataset)"
   ]
  },
  {
   "cell_type": "markdown",
   "metadata": {},
   "source": [
    "Initializing dataset instance:"
   ]
  },
  {
   "cell_type": "code",
   "execution_count": null,
   "metadata": {
    "collapsed": true
   },
   "outputs": [],
   "source": [
    "ds_hand = bdds.HandShapeDecoding()"
   ]
  },
  {
   "cell_type": "markdown",
   "metadata": {},
   "source": [
    "Now you can get data from the dataset. The dataset instance downloads the data files from figshare ([Hand shape decoding (rock–paper–scissors)](https://figshare.com/articles/Hand_shape_decoding_rock_paper_scissors_/6698780)). By default, the downloaded files are saved at `~/.bdds/handshape`. The method returns the data as a bdpy data instance."
   ]
  },
  {
   "cell_type": "code",
   "execution_count": null,
   "metadata": {
    "collapsed": true
   },
   "outputs": [],
   "source": [
    "data = ds_hand.get(subject='S1')\n",
    "data.dataset"
   ]
  },
  {
   "cell_type": "markdown",
   "metadata": {},
   "source": [
    "When the data file is already downloaded, `get` will load data from the local file."
   ]
  },
  {
   "cell_type": "code",
   "execution_count": null,
   "metadata": {
    "collapsed": true
   },
   "outputs": [],
   "source": [
    "data = ds_hand.get(subject='S1')\n",
    "data.dataset"
   ]
  },
  {
   "cell_type": "markdown",
   "metadata": {},
   "source": [
    "Instead of using the default (i.e., `~/.bdds`), you can specify any data directory when creating a dataset instance."
   ]
  },
  {
   "cell_type": "code",
   "execution_count": null,
   "metadata": {
    "collapsed": true
   },
   "outputs": [],
   "source": [
    "ds_hand = bdds.HandShapeDecoding('data/handshape')\n",
    "data = ds_hand.get(subject='S1')"
   ]
  },
  {
   "cell_type": "markdown",
   "metadata": {},
   "source": [
    "## Generic object decoding dataset"
   ]
  },
  {
   "cell_type": "code",
   "execution_count": null,
   "metadata": {
    "collapsed": true
   },
   "outputs": [],
   "source": [
    "ds_god = bdds.GenericObjectDecoding()"
   ]
  },
  {
   "cell_type": "markdown",
   "metadata": {},
   "source": [
    "The generic object decoding dataset includes data from two different modalities: fMRI data and CNN image features. You can specify it with keyword argument `mode`."
   ]
  },
  {
   "cell_type": "code",
   "execution_count": null,
   "metadata": {
    "collapsed": true
   },
   "outputs": [],
   "source": [
    "data_s1 = ds_god.get(mode='fmri', subject='Subject1')\n",
    "data_s1.dataset"
   ]
  },
  {
   "cell_type": "code",
   "execution_count": null,
   "metadata": {
    "collapsed": true
   },
   "outputs": [],
   "source": [
    "data_s2 = ds_god.get(mode='fmri', subject='Subject2')\n",
    "data_s2.dataset"
   ]
  },
  {
   "cell_type": "code",
   "execution_count": null,
   "metadata": {
    "collapsed": true
   },
   "outputs": [],
   "source": [
    "cnn_features = ds_god.get(mode='image_features')\n",
    "cnn_features.dataset"
   ]
  },
  {
   "cell_type": "markdown",
   "metadata": {},
   "source": [
    "## Decoded DNN features"
   ]
  },
  {
   "cell_type": "code",
   "execution_count": null,
   "metadata": {
    "collapsed": true
   },
   "outputs": [],
   "source": [
    "ds_dnn = bdds.DecodedDNN()"
   ]
  },
  {
   "cell_type": "markdown",
   "metadata": {},
   "source": [
    "- mode: 'decoded', 'accuracy', or 'rank'\n",
    "- net: 'AlexNet' or 'VGG19'\n",
    "- layer: CNN layers in AlexNet or VGG19\n",
    "- subject: 'S1', 'S2', 'S3', 'S4', 'S5', or 'Averaged'\n",
    "- images: image file name"
   ]
  },
  {
   "cell_type": "markdown",
   "metadata": {},
   "source": [
    "Get decoded features as an array. If the corresponding data file is missing from the data directory, DecodedDNN tries to download the required data file from remote data repository (such as figshare).\n"
   ]
  },
  {
   "cell_type": "code",
   "execution_count": null,
   "metadata": {
    "collapsed": true
   },
   "outputs": [],
   "source": [
    "ds_dnn.get(mode='decoded', subject='S1', net='AlexNet', layer='fc8', image='n01443537_22563')"
   ]
  },
  {
   "cell_type": "markdown",
   "metadata": {},
   "source": [
    "If a keyword was omitted, get() returns all data as a list. For example, if image is omitted, get() returns all data for all images in the dataset."
   ]
  },
  {
   "cell_type": "code",
   "execution_count": null,
   "metadata": {
    "collapsed": true
   },
   "outputs": [],
   "source": [
    "ds_dnn.get(mode='decoded', subject='S1', net='AlexNet', layer='fc8')"
   ]
  },
  {
   "cell_type": "markdown",
   "metadata": {},
   "source": [
    "You can obtain the data as (a list of) dictionaris instead of arrays. The dictionary contains following fields:\n",
    "\n",
    "- `data`: data\n",
    "- `identifier`: a dictionary containing keys to specify each data (in this example, it contains 'mode', 'subject', 'net', 'layer', and 'image')\n",
    "- `file`: path to the data file (relative to the data store directory)"
   ]
  },
  {
   "cell_type": "code",
   "execution_count": null,
   "metadata": {
    "collapsed": true
   },
   "outputs": [],
   "source": [
    "ds_dnn.get(mode='decoded', subject='S1', net='AlexNet', layer='fc8', image='n01443537_22563', return_dict=True)"
   ]
  },
  {
   "cell_type": "markdown",
   "metadata": {},
   "source": [
    "By default, `get()` returns an array or a dictionary when it finds just one item, and returns a list when multiple items were found. You can force the methods to return always a list by specifying `force_list=True`."
   ]
  },
  {
   "cell_type": "code",
   "execution_count": null,
   "metadata": {
    "collapsed": true
   },
   "outputs": [],
   "source": [
    "# Returns an array\n",
    "ds_dnn.get(mode='decoded', subject='S1', net='AlexNet', layer='fc8', image='n01443537_22563')"
   ]
  },
  {
   "cell_type": "code",
   "execution_count": null,
   "metadata": {
    "collapsed": true
   },
   "outputs": [],
   "source": [
    "# Retrusn a list of an array\n",
    "ds_dnn.get(mode='decoded', subject='S1', net='AlexNet', layer='fc8', image='n01443537_22563', force_list=True)"
   ]
  },
  {
   "cell_type": "markdown",
   "metadata": {},
   "source": [
    "Getting predicition accuracy and rank:"
   ]
  },
  {
   "cell_type": "code",
   "execution_count": null,
   "metadata": {
    "collapsed": true
   },
   "outputs": [],
   "source": [
    "ds_dnn.get(mode='accuracy', subject='S1', net='AlexNet', layer='fc8')"
   ]
  },
  {
   "cell_type": "code",
   "execution_count": null,
   "metadata": {
    "collapsed": true
   },
   "outputs": [],
   "source": [
    "ds_dnn.get(mode='rank', subject='S1', net='AlexNet', layer='fc8')"
   ]
  }
 ],
 "metadata": {
  "kernelspec": {
   "display_name": "Python 2",
   "language": "python",
   "name": "python2"
  },
  "language_info": {
   "codemirror_mode": {
    "name": "ipython",
    "version": 2
   },
   "file_extension": ".py",
   "mimetype": "text/x-python",
   "name": "python",
   "nbconvert_exporter": "python",
   "pygments_lexer": "ipython2",
   "version": "2.7.13"
  }
 },
 "nbformat": 4,
 "nbformat_minor": 2
}
