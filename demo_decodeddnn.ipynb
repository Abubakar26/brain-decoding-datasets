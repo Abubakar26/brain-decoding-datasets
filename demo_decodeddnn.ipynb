{
 "cells": [
  {
   "cell_type": "markdown",
   "metadata": {},
   "source": [
    "# Demo for decoded DNN dataset"
   ]
  },
  {
   "cell_type": "code",
   "execution_count": null,
   "metadata": {
    "collapsed": true
   },
   "outputs": [],
   "source": [
    "import bdset"
   ]
  },
  {
   "cell_type": "markdown",
   "metadata": {},
   "source": [
    "You need to put the decoded DNN data files in your computer. Data downloading feature is upcoming."
   ]
  },
  {
   "cell_type": "markdown",
   "metadata": {},
   "source": [
    "You can initiate the dataset like below. You need to specify the path to the decoded DNN dafa files in your computer (default: `~/.bdst/decodeddnn`)."
   ]
  },
  {
   "cell_type": "code",
   "execution_count": null,
   "metadata": {
    "collapsed": true
   },
   "outputs": [],
   "source": [
    "decoded_dnn = bdset.decodeddnn('data/decodeddnn')"
   ]
  },
  {
   "cell_type": "markdown",
   "metadata": {},
   "source": [
    "Get decoded features as an array."
   ]
  },
  {
   "cell_type": "code",
   "execution_count": null,
   "metadata": {
    "collapsed": false
   },
   "outputs": [],
   "source": [
    "decoded_dnn.get(mode='decoded', subject='S1', net='AlexNet', layer='fc8', image='n01443537_22563')"
   ]
  },
  {
   "cell_type": "markdown",
   "metadata": {},
   "source": [
    "If a keyword was omitted, `get()` returns all data as a list. For example, if `image` is omitted, `get()` returns all data for all images in the dataset."
   ]
  },
  {
   "cell_type": "code",
   "execution_count": null,
   "metadata": {
    "collapsed": false
   },
   "outputs": [],
   "source": [
    "decoded_dnn.get(mode='decoded', subject='S1', net='AlexNet', layer='fc8')"
   ]
  },
  {
   "cell_type": "markdown",
   "metadata": {},
   "source": [
    "You can obtain the data as (a list of) dictionaris instead of arrays. The dictionary contains 'mode', 'subject', 'net', 'layer', and 'image' as well as 'data'."
   ]
  },
  {
   "cell_type": "code",
   "execution_count": null,
   "metadata": {
    "collapsed": false,
    "scrolled": true
   },
   "outputs": [],
   "source": [
    "decoded_dnn.get(mode='decoded', subject='S1', net='AlexNet', layer='fc8', image='n01443537_22563', return_dict=True)"
   ]
  },
  {
   "cell_type": "markdown",
   "metadata": {},
   "source": [
    "By default, `get()` returns an array or a dictionary when it finds just one item, and returns a list when multiple items were found. You can force the methods to return always a list by specifying `force_list=True`."
   ]
  },
  {
   "cell_type": "code",
   "execution_count": null,
   "metadata": {
    "collapsed": false
   },
   "outputs": [],
   "source": [
    "# Returns an array\n",
    "a = decoded_dnn.get(mode='decoded', subject='S1', net='AlexNet', layer='fc8', image='n01443537_22563')\n",
    "# Retrusn a list of an array\n",
    "b = decoded_dnn.get(mode='decoded', subject='S1', net='AlexNet', layer='fc8', image='n01443537_22563', force_list=True)"
   ]
  },
  {
   "cell_type": "markdown",
   "metadata": {},
   "source": [
    "Getting predicition accuracy and rank:"
   ]
  },
  {
   "cell_type": "code",
   "execution_count": null,
   "metadata": {
    "collapsed": true
   },
   "outputs": [],
   "source": [
    "acc = decoded_dnn.get(mode='accuracy', subject='S1', net='AlexNet', layer='fc8')\n",
    "rank = decoded_dnn.get(mode='rank', subject='S1', net='AlexNet', layer='fc8')"
   ]
  }
 ],
 "metadata": {
  "anaconda-cloud": {},
  "kernelspec": {
   "display_name": "Python [conda root]",
   "language": "python",
   "name": "conda-root-py"
  },
  "language_info": {
   "codemirror_mode": {
    "name": "ipython",
    "version": 2
   },
   "file_extension": ".py",
   "mimetype": "text/x-python",
   "name": "python",
   "nbconvert_exporter": "python",
   "pygments_lexer": "ipython2",
   "version": "2.7.12"
  }
 },
 "nbformat": 4,
 "nbformat_minor": 1
}
