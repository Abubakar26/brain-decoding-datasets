{
 "cells": [
  {
   "cell_type": "markdown",
   "metadata": {},
   "source": [
    "# Demo for decoded DNN dataset"
   ]
  },
  {
   "cell_type": "code",
   "execution_count": null,
   "metadata": {
    "collapsed": true
   },
   "outputs": [],
   "source": [
    "import bdds"
   ]
  },
  {
   "cell_type": "markdown",
   "metadata": {},
   "source": [
    "You can initiate the dataset like below. You can specify the path to data directory in which the decoded DNN dafa files are saved (default: `~/.bdds/decodeddnn`)."
   ]
  },
  {
   "cell_type": "code",
   "execution_count": null,
   "metadata": {
    "collapsed": true
   },
   "outputs": [],
   "source": [
    "decoded_dnn = bdds.DecodedDNN('data/decodeddnn')"
   ]
  },
  {
   "cell_type": "markdown",
   "metadata": {},
   "source": [
    "Get decoded features as an array. If the corresponding data file is missing from the data directory, `DecodedDNN` tries to download the required data file from remote data repository (such as figshare)."
   ]
  },
  {
   "cell_type": "code",
   "execution_count": null,
   "metadata": {},
   "outputs": [],
   "source": [
    "decoded_dnn.get(mode='decoded', subject='S1', net='AlexNet', layer='fc8', image='n01443537_22563')"
   ]
  },
  {
   "cell_type": "markdown",
   "metadata": {},
   "source": [
    "If a keyword was omitted, `get()` returns all data as a list. For example, if `image` is omitted, `get()` returns all data for all images in the dataset."
   ]
  },
  {
   "cell_type": "code",
   "execution_count": null,
   "metadata": {},
   "outputs": [],
   "source": [
    "decoded_dnn.get(mode='decoded', subject='S1', net='AlexNet', layer='fc8')"
   ]
  },
  {
   "cell_type": "markdown",
   "metadata": {},
   "source": [
    "You can obtain the data as (a list of) dictionaris instead of arrays. The dictionary contains following fields:\n",
    "\n",
    "- `data`: data\n",
    "- `identifier`: a dictionary containing keys to specify each data (in this example, it contains 'mode', 'subject', 'net', 'layer', and 'image')\n",
    "- `file`: path to the data file (relative to the data store directory)"
   ]
  },
  {
   "cell_type": "code",
   "execution_count": null,
   "metadata": {
    "scrolled": true
   },
   "outputs": [],
   "source": [
    "decoded_dnn.get(mode='decoded', subject='S1', net='AlexNet', layer='fc8', image='n01443537_22563', return_dict=True)"
   ]
  },
  {
   "cell_type": "markdown",
   "metadata": {},
   "source": [
    "By default, `get()` returns an array or a dictionary when it finds just one item, and returns a list when multiple items were found. You can force the methods to return always a list by specifying `force_list=True`."
   ]
  },
  {
   "cell_type": "code",
   "execution_count": null,
   "metadata": {},
   "outputs": [],
   "source": [
    "# Returns an array\n",
    "decoded_dnn.get(mode='decoded', subject='S1', net='AlexNet', layer='fc8', image='n01443537_22563')"
   ]
  },
  {
   "cell_type": "code",
   "execution_count": null,
   "metadata": {},
   "outputs": [],
   "source": [
    "# Retrusn a list of an array\n",
    "decoded_dnn.get(mode='decoded', subject='S1', net='AlexNet', layer='fc8', image='n01443537_22563', force_list=True)"
   ]
  },
  {
   "cell_type": "markdown",
   "metadata": {},
   "source": [
    "Getting predicition accuracy and rank:"
   ]
  },
  {
   "cell_type": "code",
   "execution_count": null,
   "metadata": {},
   "outputs": [],
   "source": [
    "decoded_dnn.get(mode='accuracy', subject='S1', net='AlexNet', layer='fc8')"
   ]
  },
  {
   "cell_type": "code",
   "execution_count": null,
   "metadata": {},
   "outputs": [],
   "source": [
    "decoded_dnn.get(mode='rank', subject='S1', net='AlexNet', layer='fc8')"
   ]
  }
 ],
 "metadata": {
  "anaconda-cloud": {},
  "kernelspec": {
   "display_name": "Python 2",
   "language": "python",
   "name": "python2"
  },
  "language_info": {
   "codemirror_mode": {
    "name": "ipython",
    "version": 2
   },
   "file_extension": ".py",
   "mimetype": "text/x-python",
   "name": "python",
   "nbconvert_exporter": "python",
   "pygments_lexer": "ipython2",
   "version": "2.7.14"
  }
 },
 "nbformat": 4,
 "nbformat_minor": 1
}
